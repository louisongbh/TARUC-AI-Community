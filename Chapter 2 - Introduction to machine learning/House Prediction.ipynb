{
 "cells": [
  {
   "cell_type": "markdown",
   "metadata": {},
   "source": [
    "# House Prediction Price\n",
    "\n",
    "Imagine today you are given a dataset of house pricing with the size of house. Naturally it can be asserted that the higher the size of houses, the higher the price of house will be.\n",
    "\n",
    "Your algorithm needs to predict the price of house given a certain amount of size is"
   ]
  },
  {
   "cell_type": "code",
   "execution_count": 1,
   "metadata": {},
   "outputs": [],
   "source": [
    "import numpy as np\n",
    "import matplotlib.pyplot as plt"
   ]
  },
  {
   "cell_type": "code",
   "execution_count": 2,
   "metadata": {},
   "outputs": [
    {
     "data": {
      "image/png": "[encoded data removed]",
      "text/plain": [
       "<Figure size 432x288 with 1 Axes>"
      ]
     },
     "metadata": {
      "needs_background": "light"
     },
     "output_type": "display_data"
    }
   ],
   "source": [
    "x = np.linspace(0,50,11)\n",
    "#Normalisation\n",
    "x = (x - min(x))/(max(x) - min(x))\n",
    "\n",
    "x_2 = x**2\n",
    "y = 6*x_2 + 4*x + 10\n",
    "\n",
    "fig = plt.figure()\n",
    "fig.suptitle('House price vs size of house', fontsize=20)\n",
    "plt.scatter(x,y)\n",
    "plt.show()"
   ]
  },
  {
   "cell_type": "markdown",
   "metadata": {},
   "source": [
    "# Machine Learning algorithms\n",
    "Algorithms that we have learned in Guessing Game. The only difference that the algorithms include matrix form"
   ]
  },
  {
   "cell_type": "code",
   "execution_count": 3,
   "metadata": {},
   "outputs": [],
   "source": [
    "def predict(x, w, b):\n",
    "    y = x * w + b \n",
    "    return y \n",
    "\n",
    "def cost_function(predicted,actual):\n",
    "    length = actual.shape[0]\n",
    "    difference = 1/ length * np.sum((actual- predicted)** 2)\n",
    "    return difference\n",
    "\n",
    "def learning(x, predicted, actual):\n",
    "    length = actual.shape[0]\n",
    "    dw = np.sum((-2*x)/length* (actual - predicted))\n",
    "    db = np.sum((-2/length) * (actual - predicted))\n",
    "    cache = (dw,db)\n",
    "    return cache\n",
    "\n",
    "def optimise (cache, learning_rate, w, b):\n",
    "    dw, db = cache\n",
    "    w = w - learning_rate * dw\n",
    "    b = b - learning_rate * db \n",
    "    return w, b\n",
    "    "
   ]
  },
  {
   "cell_type": "markdown",
   "metadata": {},
   "source": [
    "# Model"
   ]
  },
  {
   "cell_type": "code",
   "execution_count": 4,
   "metadata": {},
   "outputs": [],
   "source": [
    "def model(x,w,b,actual,learning_rate, iteration):\n",
    "    costlist = []\n",
    "    iterlist = []\n",
    "    for i in range(iteration):\n",
    "        predicted = predict(x,w,b)\n",
    "        cost = cost_function(predicted, actual)\n",
    "        if i%100 == 0:\n",
    "            costlist.append(cost)\n",
    "            iterlist.append(i)\n",
    "            print(\"Cost of the function is\", cost)\n",
    "        cache = learning(x, predicted, actual)\n",
    "        w, b = optimise(cache, learning_rate, w , b)\n",
    "    \n",
    "    output = ( w, b)\n",
    "    \n",
    "    return costlist, iterlist, output"
   ]
  },
  {
   "cell_type": "code",
   "execution_count": 9,
   "metadata": {},
   "outputs": [
    {
     "name": "stdout",
     "output_type": "stream",
     "text": [
      "Cost of the function is 263.0908\n",
      "Cost of the function is 2.5372902142362204\n",
      "Cost of the function is 0.829667287954394\n",
      "Cost of the function is 0.6750460007497742\n",
      "Cost of the function is 0.568515277101108\n",
      "Cost of the function is 0.49079730666063026\n",
      "Cost of the function is 0.4340727553365114\n",
      "Cost of the function is 0.3926706620100971\n",
      "Cost of the function is 0.3624521174418462\n",
      "Cost of the function is 0.3403962173008223\n"
     ]
    },
    {
     "data": {
      "image/png": "[encoded data removed]",
      "text/plain": [
       "<Figure size 432x288 with 1 Axes>"
      ]
     },
     "metadata": {
      "needs_background": "light"
     },
     "output_type": "display_data"
    }
   ],
   "source": [
    "inpt = x \n",
    "weight = 20\n",
    "bias = 20\n",
    "actual = y\n",
    "learning_rate = 0.01\n",
    "\n",
    "iteration = 1000\n",
    "\n",
    "costlist, iterlist, output = model( inpt, weight, bias, actual,learning_rate, iteration )\n",
    "plt.plot(iterlist, costlist)\n",
    "plt.show()"
   ]
  },
  {
   "cell_type": "markdown",
   "metadata": {},
   "source": [
    "# Output\n",
    "\n",
    "Congratulations, your machine model is able to craft a best fit line to predict the house price"
   ]
  },
  {
   "cell_type": "code",
   "execution_count": 12,
   "metadata": {},
   "outputs": [
    {
     "name": "stdout",
     "output_type": "stream",
     "text": [
      "The value of w is  11.436567839787584  the value of b is 8.320439985339359\n"
     ]
    },
    {
     "data": {
      "image/png": "[encoded data removed]",
      "text/plain": [
       "<Figure size 432x288 with 1 Axes>"
      ]
     },
     "metadata": {
      "needs_background": "light"
     },
     "output_type": "display_data"
    }
   ],
   "source": [
    "w, b = output\n",
    "print('The value of w is ', w , ' the value of b is',b)\n",
    "predicted_y = w* x + b\n",
    "plt.scatter(x,y)\n",
    "plt.plot(x,predicted_y)\n",
    "plt.show()"
   ]
  },
  {
   "cell_type": "code",
   "execution_count": null,
   "metadata": {},
   "outputs": [],
   "source": []
  }
 ],
 "metadata": {
  "kernelspec": {
   "display_name": "Python 3",
   "language": "python",
   "name": "python3"
  },
  "language_info": {
   "codemirror_mode": {
    "name": "ipython",
    "version": 3
   },
   "file_extension": ".py",
   "mimetype": "text/x-python",
   "name": "python",
   "nbconvert_exporter": "python",
   "pygments_lexer": "ipython3",
   "version": "3.7.9"
  }
 },
 "nbformat": 4,
 "nbformat_minor": 2
}
