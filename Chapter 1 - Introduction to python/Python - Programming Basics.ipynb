{
 "cells": [
  {
   "cell_type": "markdown",
   "metadata": {},
   "source": [
    "# Basic Data Type\n",
    "\n",
    "There are different data types in Python such as\n",
    "> 1. String - Alphabets and unicode characters\n",
    "> 2. int, long, float - Numbers\n",
    "> 3. list - array of things\n",
    "> 4. tuple - immutable array of things\n",
    "> 5. dictionary "
   ]
  },
  {
   "cell_type": "code",
   "execution_count": 1,
   "metadata": {},
   "outputs": [
    {
     "name": "stdout",
     "output_type": "stream",
     "text": [
      "Type of variable x is  <class 'str'>\n"
     ]
    }
   ],
   "source": [
    "x = 'Hello'\n",
    "print('Type of variable x is ' ,type(x))"
   ]
  },
  {
   "cell_type": "code",
   "execution_count": 2,
   "metadata": {},
   "outputs": [
    {
     "name": "stdout",
     "output_type": "stream",
     "text": [
      "Value of variable y is  2 with type of  <class 'int'>\n"
     ]
    }
   ],
   "source": [
    "y = 1\n",
    "y+=1\n",
    "print('Value of variable y is ' ,y , 'with type of ', type(y))"
   ]
  },
  {
   "cell_type": "markdown",
   "metadata": {},
   "source": [
    "# Operators\n",
    "Operators are used for boolean logic which are segregated to\n",
    "> 1. and - Both conditions must be true\n",
    "> 2. or - Either one of the conditions must be true\n",
    "> 3. not - If true, then false . If false, then true"
   ]
  },
  {
   "cell_type": "code",
   "execution_count": 10,
   "metadata": {},
   "outputs": [
    {
     "name": "stdout",
     "output_type": "stream",
     "text": [
      "False\n",
      "True\n"
     ]
    }
   ],
   "source": [
    "classAbsent = False\n",
    "classPresent = True\n",
    "\n",
    "print(classAbsent and classPresent)\n",
    "print(classAbsent or classPresent)"
   ]
  },
  {
   "cell_type": "markdown",
   "metadata": {},
   "source": [
    "# Lists\n",
    "List consists of an array of items"
   ]
  },
  {
   "cell_type": "code",
   "execution_count": 7,
   "metadata": {},
   "outputs": [
    {
     "name": "stdout",
     "output_type": "stream",
     "text": [
      "Length of list xs is  3\n"
     ]
    }
   ],
   "source": [
    "xs = [1,2,3]\n",
    "print('Length of list xs is ', len(xs))"
   ]
  },
  {
   "cell_type": "markdown",
   "metadata": {},
   "source": [
    "# Slicing\n",
    "Slicing is a term to collect an item in list/tuple based on index"
   ]
  },
  {
   "cell_type": "code",
   "execution_count": 9,
   "metadata": {},
   "outputs": [
    {
     "name": "stdout",
     "output_type": "stream",
     "text": [
      "The first item in list nums is  0\n",
      "The second item in list nums is  1\n",
      "The third item in list nums is  2\n",
      "The fourth item in list nums is  3\n",
      "The fifth item in list nums is  4\n"
     ]
    }
   ],
   "source": [
    "nums = range(5)\n",
    "# nums = [0,1,2,3,4]\n",
    "print('The first item in list nums is ', nums[0])\n",
    "print('The second item in list nums is ', nums[1])\n",
    "print('The third item in list nums is ', nums[2])\n",
    "print('The fourth item in list nums is ', nums[3])\n",
    "print('The fifth item in list nums is ', nums[4])"
   ]
  },
  {
   "cell_type": "code",
   "execution_count": 10,
   "metadata": {},
   "outputs": [
    {
     "name": "stdout",
     "output_type": "stream",
     "text": [
      "cat\n",
      "dog\n",
      "monkey\n"
     ]
    }
   ],
   "source": [
    "animals = ['cat','dog','monkey']\n",
    "for animal in animals:\n",
    "    print(animal)"
   ]
  },
  {
   "cell_type": "markdown",
   "metadata": {},
   "source": [
    "# Dictionary\n",
    "Dictionary is used when your items come in pair (An item with name and has its own attributes)"
   ]
  },
  {
   "cell_type": "code",
   "execution_count": 11,
   "metadata": {},
   "outputs": [
    {
     "name": "stdout",
     "output_type": "stream",
     "text": [
      "False\n",
      "cute\n"
     ]
    }
   ],
   "source": [
    "d = {\n",
    "    'cat': 'cute',\n",
    "    'dog' : 'furry'\n",
    "}\n",
    "\n",
    "print('caterpillar' in d )\n",
    "print(d['cat'])"
   ]
  },
  {
   "cell_type": "markdown",
   "metadata": {},
   "source": [
    "# Functions\n",
    "Function is used when there is any repetitive actions"
   ]
  },
  {
   "cell_type": "code",
   "execution_count": 12,
   "metadata": {},
   "outputs": [
    {
     "name": "stdout",
     "output_type": "stream",
     "text": [
      "hello\n",
      "hello\n",
      "hello\n",
      "hello\n",
      "hello\n",
      "hello\n",
      "hello\n",
      "hello\n",
      "hello\n",
      "hello\n"
     ]
    }
   ],
   "source": [
    "def hello(number) :\n",
    "    for x in range(number):\n",
    "        print('hello')\n",
    "        \n",
    "hello(10)"
   ]
  },
  {
   "cell_type": "markdown",
   "metadata": {},
   "source": [
    "# Classes\n",
    "Class is used to define an complex object that has its own attributes as well as functions"
   ]
  },
  {
   "cell_type": "code",
   "execution_count": 13,
   "metadata": {},
   "outputs": [
    {
     "name": "stdout",
     "output_type": "stream",
     "text": [
      "Louis\n"
     ]
    }
   ],
   "source": [
    "class Greet : \n",
    "    \n",
    "    def __init__(self,name):\n",
    "        self.name = name\n",
    "        \n",
    "    def greet(self):\n",
    "        print(self.name)\n",
    "        \n",
    "# You have initialised a class \n",
    "g = Greet('Louis')\n",
    "g.greet()"
   ]
  },
  {
   "cell_type": "code",
   "execution_count": null,
   "metadata": {},
   "outputs": [],
   "source": []
  }
 ],
 "metadata": {
  "kernelspec": {
   "display_name": "Python 3",
   "language": "python",
   "name": "python3"
  },
  "language_info": {
   "codemirror_mode": {
    "name": "ipython",
    "version": 3
   },
   "file_extension": ".py",
   "mimetype": "text/x-python",
   "name": "python",
   "nbconvert_exporter": "python",
   "pygments_lexer": "ipython3",
   "version": "3.7.0"
  }
 },
 "nbformat": 4,
 "nbformat_minor": 2
}
