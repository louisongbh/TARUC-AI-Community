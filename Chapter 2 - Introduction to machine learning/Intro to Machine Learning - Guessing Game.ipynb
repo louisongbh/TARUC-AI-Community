{
 "cells": [
  {
   "cell_type": "markdown",
   "metadata": {},
   "source": [
    "# Intro To Machine Learning\n",
    "\n",
    "Imagine today, one of your friends tell you that given an equation of y = w * x + b ,\n",
    "when x = 2, y = 20\n",
    "\n",
    "Your friend wants you to predict what is w and what is b \n",
    "\n",
    "Given that, your friend actually predicted  w=8, b=4 , as shown by equation below"
   ]
  },
  {
   "cell_type": "code",
   "execution_count": 17,
   "metadata": {},
   "outputs": [
    {
     "data": {
      "text/plain": [
       "20"
      ]
     },
     "execution_count": 17,
     "metadata": {},
     "output_type": "execute_result"
    }
   ],
   "source": [
    "def predict(x,w,b):\n",
    "    y = w * x + b\n",
    "    return y\n",
    "\n",
    "predict(2,8,4)"
   ]
  },
  {
   "cell_type": "markdown",
   "metadata": {},
   "source": [
    "# Cost Function\n",
    "To solve this, we start with a cost function where we calculated the error between the predicted result and the actual result, for this case, 20 "
   ]
  },
  {
   "cell_type": "code",
   "execution_count": 19,
   "metadata": {},
   "outputs": [
    {
     "name": "stdout",
     "output_type": "stream",
     "text": [
      "The error you made when your predicted y is 0 is 400\n"
     ]
    }
   ],
   "source": [
    "def cost_function(actual,predicted):\n",
    "    error = (actual - predicted)**2\n",
    "    return error\n",
    "\n",
    "# J = wx + b \n",
    "#correct : when x =2, w = 8 , b = 4 \n",
    "#predict : when x = 2, w = 1, b = 1\n",
    "\n",
    "print('The error you made when your predicted y is 0 is', cost_function(20,0))"
   ]
  },
  {
   "cell_type": "markdown",
   "metadata": {},
   "source": [
    "# Differentiation\n",
    "\n",
    "To reduce the error made by actual and predicted, we need to calculate the differentiation of w and b, based on the cost function\n",
    "<img src=\"../media/Percepbackpropmulti.JPG\" />\n"
   ]
  },
  {
   "cell_type": "code",
   "execution_count": 20,
   "metadata": {},
   "outputs": [],
   "source": [
    "def differentiation(x, actual, predicted):\n",
    "    dw = -2 * x * ( actual - predicted )\n",
    "    db = - 2 * ( actual - predicted )\n",
    "    cache = ( dw, db)\n",
    "    return cache"
   ]
  },
  {
   "cell_type": "markdown",
   "metadata": {},
   "source": [
    "# Learning\n",
    "In order to learn to minimise the error, for every iteration of learning, our predicted w and b will be decreased by the differentiation itself"
   ]
  },
  {
   "cell_type": "code",
   "execution_count": 6,
   "metadata": {},
   "outputs": [],
   "source": [
    "def learning(cache, learning_rate, w, b ):\n",
    "    dw, db = cache\n",
    "    w = w - learning_rate * dw\n",
    "    b = b - learning_rate * db\n",
    "    return w, b "
   ]
  },
  {
   "cell_type": "markdown",
   "metadata": {},
   "source": [
    "# Model"
   ]
  },
  {
   "cell_type": "code",
   "execution_count": 7,
   "metadata": {},
   "outputs": [],
   "source": [
    "def model(x , w , b , learning_rate, iteration):\n",
    "    costlist = []\n",
    "    iterlist = []\n",
    "    for i in range(iteration):\n",
    "        predicted = predict(x, w, b)\n",
    "        cost = cost_function(20, predicted)\n",
    "        if i%10 == 0:\n",
    "            costlist.append(cost)\n",
    "            iterlist.append(i)\n",
    "        cache = differentiation(x, 20, predicted)\n",
    "        w, b = learning(cache, learning_rate, w, b)\n",
    "    output = (w, b)\n",
    "    return costlist,iterlist, output\n",
    "            "
   ]
  },
  {
   "cell_type": "markdown",
   "metadata": {},
   "source": [
    "# Learning Process\n",
    "There will be a learning rate that determines the speed of learning, try and play around with the numbers"
   ]
  },
  {
   "cell_type": "code",
   "execution_count": 21,
   "metadata": {},
   "outputs": [],
   "source": [
    "#predicted = 20\n",
    "x = 2\n",
    "weight = 0\n",
    "bias = 0\n",
    "learning_rate = 0.005\n",
    "iteration = 400 \n",
    "\n",
    "costlist, iterlist, output = model(x, weight, bias, learning_rate, iteration)\n",
    "\n"
   ]
  },
  {
   "cell_type": "code",
   "execution_count": 22,
   "metadata": {},
   "outputs": [],
   "source": [
    "import numpy as np\n",
    "import matplotlib.pyplot as plt"
   ]
  },
  {
   "cell_type": "code",
   "execution_count": 23,
   "metadata": {},
   "outputs": [
    {
     "data": {
      "text/plain": [
       "[<matplotlib.lines.Line2D at 0x1295bb0>]"
      ]
     },
     "execution_count": 23,
     "metadata": {},
     "output_type": "execute_result"
    },
    {
     "data": {
      "image/png": "[encoded data removed]",
      "text/plain": [
       "<Figure size 432x288 with 1 Axes>"
      ]
     },
     "metadata": {
      "needs_background": "light"
     },
     "output_type": "display_data"
    }
   ],
   "source": [
    "plt.plot(iterlist, costlist)"
   ]
  },
  {
   "cell_type": "code",
   "execution_count": 24,
   "metadata": {},
   "outputs": [
    {
     "name": "stdout",
     "output_type": "stream",
     "text": [
      "Predicted output  19.99999997542621\n",
      "Our predicted w is  7.999999990170484  predicted b is  3.999999995085242\n"
     ]
    }
   ],
   "source": [
    "w ,b = output\n",
    "print('Predicted output ',w * 2 + b)\n",
    "print('Our predicted w is ', w, ' predicted b is ', b)"
   ]
  },
  {
   "cell_type": "code",
   "execution_count": null,
   "metadata": {},
   "outputs": [],
   "source": []
  }
 ],
 "metadata": {
  "kernelspec": {
   "display_name": "Python 3",
   "language": "python",
   "name": "python3"
  },
  "language_info": {
   "codemirror_mode": {
    "name": "ipython",
    "version": 3
   },
   "file_extension": ".py",
   "mimetype": "text/x-python",
   "name": "python",
   "nbconvert_exporter": "python",
   "pygments_lexer": "ipython3",
   "version": "3.7.0"
  }
 },
 "nbformat": 4,
 "nbformat_minor": 2
}
