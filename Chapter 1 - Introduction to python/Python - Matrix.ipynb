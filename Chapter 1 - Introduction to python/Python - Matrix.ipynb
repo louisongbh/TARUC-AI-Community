{
 "cells": [
  {
   "cell_type": "markdown",
   "metadata": {},
   "source": [
    "# Matrix\n",
    "To access matrix in python, we will need library ('numpy') in this case\n",
    "\n",
    "To install numpy, type in the command below in your command prompt\n",
    "1. python -m pip install numpy"
   ]
  },
  {
   "cell_type": "code",
   "execution_count": 1,
   "metadata": {},
   "outputs": [],
   "source": [
    "import numpy as np"
   ]
  },
  {
   "cell_type": "code",
   "execution_count": 5,
   "metadata": {},
   "outputs": [
    {
     "name": "stdout",
     "output_type": "stream",
     "text": [
      "The array of a is  [1 2 3] type of a is  <class 'numpy.ndarray'>\n",
      "The array of b is  [1, 2, 3] type of b is  <class 'list'>\n"
     ]
    }
   ],
   "source": [
    "a = np.array([1,2,3])\n",
    "b = [1,2,3]\n",
    "print('The array of a is ', a , 'type of a is ', type(a))\n",
    "print('The array of b is ', b , 'type of b is ', type(b))\n"
   ]
  },
  {
   "cell_type": "markdown",
   "metadata": {},
   "source": [
    "# Double Size Array\n",
    "Given a table of x, y\n",
    "\n",
    "| x | y | \n",
    "| 1 | 4 |\n",
    "| 2 | 5 | \n",
    "| 3 | 6 | \n",
    "\n",
    "An array will be useful to convey the data in matrix form instead of general list"
   ]
  },
  {
   "cell_type": "code",
   "execution_count": 6,
   "metadata": {},
   "outputs": [
    {
     "name": "stdout",
     "output_type": "stream",
     "text": [
      "[[1 2 3]\n",
      " [4 5 6]]\n",
      "Shape of matrix b is  (2, 3)\n"
     ]
    }
   ],
   "source": [
    "b = np.array([ [1,2,3], [4,5,6] ])\n",
    "print(b)\n",
    "print('Shape of matrix b is ', b.shape)"
   ]
  },
  {
   "cell_type": "code",
   "execution_count": null,
   "metadata": {},
   "outputs": [],
   "source": [
    "# Ad"
   ]
  },
  {
   "cell_type": "code",
   "execution_count": 15,
   "metadata": {},
   "outputs": [
    {
     "name": "stdout",
     "output_type": "stream",
     "text": [
      "[[ 0 -3  0]\n",
      " [-2  0  0]]\n"
     ]
    }
   ],
   "source": [
    "a = np.array([[1,2,3], [1,2,3]])\n",
    "b = np.array([[1,5,3], [3,2,3]])\n",
    "print(a-b)"
   ]
  },
  {
   "cell_type": "markdown",
   "metadata": {},
   "source": [
    "# Multiplication \n",
    "In order to multiply shape A = n x m , B = m x s"
   ]
  },
  {
   "cell_type": "code",
   "execution_count": 19,
   "metadata": {},
   "outputs": [
    {
     "name": "stdout",
     "output_type": "stream",
     "text": [
      "(1, 3)\n",
      "(3, 1)\n"
     ]
    },
    {
     "data": {
      "text/plain": [
       "array([[10]])"
      ]
     },
     "execution_count": 19,
     "metadata": {},
     "output_type": "execute_result"
    }
   ],
   "source": [
    "a = np.array([[1,2,3]]) # Shape 1 x 3 \n",
    "b = np.array([ [3] , [2] ,[1] ])\n",
    "print(a.shape)\n",
    "print(b.shape)\n",
    "np.dot(a,b)"
   ]
  }
 ],
 "metadata": {
  "kernelspec": {
   "display_name": "Python 3",
   "language": "python",
   "name": "python3"
  },
  "language_info": {
   "codemirror_mode": {
    "name": "ipython",
    "version": 3
   },
   "file_extension": ".py",
   "mimetype": "text/x-python",
   "name": "python",
   "nbconvert_exporter": "python",
   "pygments_lexer": "ipython3",
   "version": "3.7.0"
  }
 },
 "nbformat": 4,
 "nbformat_minor": 2
}
